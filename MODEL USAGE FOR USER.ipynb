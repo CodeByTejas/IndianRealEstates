{
 "cells": [
  {
   "cell_type": "code",
   "execution_count": 13,
   "id": "b9553cae",
   "metadata": {},
   "outputs": [
    {
     "data": {
      "text/plain": [
       "array([12.327])"
      ]
     },
     "execution_count": 13,
     "metadata": {},
     "output_type": "execute_result"
    }
   ],
   "source": [
    "from joblib import dump, load\n",
    "import numpy as np\n",
    "model = load('Indian.joblib')\n",
    "features = np.array([[ 1.3766227 , -0.46518961,  0.99776471, -0.27288841,  0.48750758,\n",
    "       -1.37747786,  1.01247149, -0.79019848,  1.6351333 ,  1.51504551,\n",
    "        0.80256529, -0.04255723,  1.67953595]])\n",
    "model.predict(features)"
   ]
  },
  {
   "cell_type": "code",
   "execution_count": null,
   "id": "ab230206",
   "metadata": {},
   "outputs": [],
   "source": []
  }
 ],
 "metadata": {
  "kernelspec": {
   "display_name": "Python 3 (ipykernel)",
   "language": "python",
   "name": "python3"
  },
  "language_info": {
   "codemirror_mode": {
    "name": "ipython",
    "version": 3
   },
   "file_extension": ".py",
   "mimetype": "text/x-python",
   "name": "python",
   "nbconvert_exporter": "python",
   "pygments_lexer": "ipython3",
   "version": "3.10.2"
  }
 },
 "nbformat": 4,
 "nbformat_minor": 5
}
